{
 "cells": [
  {
   "cell_type": "code",
   "execution_count": 6,
   "id": "10308e9d-4bf8-4a0c-95e3-0cdedf1b03a8",
   "metadata": {},
   "outputs": [],
   "source": [
    "import pandas as pd\n",
    "def encrypt_password(password: str):\n",
    "    password = password.upper()\n",
    "    cypher = pd.read_excel('Rubrics/chyper-code.xlsx')\n",
    "    cypher= cypher[['USER TYPE', 'SYSTEM CONVERT']].astype(str)\n",
    "    conversion_system = dict(zip(cypher['USER TYPE'], cypher['SYSTEM CONVERT']))\n",
    "    print(conversion_system)\n",
    "    encrypted_password = ''\n",
    "    for char in password:\n",
    "        if char.upper() in conversion_system:\n",
    "            encrypted_password += conversion_system[char.upper()]\n",
    "        else:\n",
    "            encrypted_password += char\n",
    "    return encrypted_password\n"
   ]
  },
  {
   "cell_type": "code",
   "execution_count": 7,
   "id": "328ab0e6-76bd-4608-a349-df991669cfd8",
   "metadata": {},
   "outputs": [
    {
     "name": "stdout",
     "output_type": "stream",
     "text": [
      "{'A': 'T', 'B': 'I', 'C': 'M', 'D': 'E', 'E': 'O', 'F': 'D', 'G': 'A', 'H': 'N', 'I': 'S', 'J': 'F', 'K': 'R', 'L': 'B', 'M': 'C', 'N': 'G', 'O': 'H', 'P': 'J', 'Q': 'K', 'R': 'L', 'S': 'P', 'T': 'Q', 'U': 'U', 'V': 'V', 'W': 'W', 'X': 'X', 'Y': 'Y', 'Z': 'Z', '0': '9', '1': '8', '2': '7', '3': '6', '4': '5', '5': '4', '6': '3', '7': '2', '8': '1', '9': '0'}\n"
     ]
    },
    {
     "data": {
      "text/plain": [
       "'CTLMHP557978'"
      ]
     },
     "execution_count": 7,
     "metadata": {},
     "output_type": "execute_result"
    }
   ],
   "source": [
    "encrypt_password('MARCOS442021')"
   ]
  },
  {
   "cell_type": "code",
   "execution_count": null,
   "id": "a2f942e0-2a83-4694-ad11-c51f1df93321",
   "metadata": {},
   "outputs": [],
   "source": []
  }
 ],
 "metadata": {
  "kernelspec": {
   "display_name": "Python 3 (ipykernel)",
   "language": "python",
   "name": "python3"
  },
  "language_info": {
   "codemirror_mode": {
    "name": "ipython",
    "version": 3
   },
   "file_extension": ".py",
   "mimetype": "text/x-python",
   "name": "python",
   "nbconvert_exporter": "python",
   "pygments_lexer": "ipython3",
   "version": "3.9.13"
  }
 },
 "nbformat": 4,
 "nbformat_minor": 5
}
